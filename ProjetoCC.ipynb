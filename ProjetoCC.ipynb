{
 "cells": [
  {
   "cell_type": "code",
   "execution_count": 19,
   "id": "49fddafd-746e-4142-80ef-872a732de6c3",
   "metadata": {
    "vscode": {
     "languageId": "python"
    }
   },
   "outputs": [],
   "source": [
    "import numpy as np\n",
    "import math as mt\n",
    "from itertools import combinations"
   ]
  },
  {
   "cell_type": "code",
   "execution_count": 20,
   "id": "2640efa7-45a9-4df2-9da5-60c0bb00327d",
   "metadata": {
    "vscode": {
     "languageId": "python"
    }
   },
   "outputs": [],
   "source": [
    "def RotAngleLig(theta):\n",
    "    matrix = np.array(\n",
    "    [[-np.cos(theta), -np.sin(theta), 0, 0],\n",
    "    [  np.sin(theta), -np.cos(theta), 0, 0],\n",
    "    [0, 0, 1, 0],\n",
    "    [0, 0, 0, 1]\n",
    "    ])\n",
    "    return matrix"
   ]
  },
  {
   "cell_type": "code",
   "execution_count": 21,
   "id": "71eec9a3-2379-48d0-b7a6-d5460feae63c",
   "metadata": {
    "vscode": {
     "languageId": "python"
    }
   },
   "outputs": [],
   "source": [
    "def RotAngleTor(beta):\n",
    "    matrix = np.array(\n",
    "    [[1, 0, 0, 0],\n",
    "    [ 0, np.cos(beta), -np.sin(beta),  0],\n",
    "    [ 0, np.sin(beta),  np.cos(beta), 0],\n",
    "    [0, 0, 0, 1]\n",
    "    ])\n",
    "    return matrix"
   ]
  },
  {
   "cell_type": "code",
   "execution_count": 22,
   "id": "52427e89-f9d2-4e6a-99d4-e62a6ce697ae",
   "metadata": {
    "vscode": {
     "languageId": "python"
    }
   },
   "outputs": [],
   "source": [
    "def Translacao(d):\n",
    "    matrix = ([\n",
    "    [1, 0, 0, d],\n",
    "    [0, 1, 0, 0],\n",
    "    [0, 0, 1, 0],\n",
    "    [0, 0, 0, 1]\n",
    "    ])\n",
    "    return matrix"
   ]
  },
  {
   "cell_type": "code",
   "execution_count": 23,
   "id": "b6fa91a6-7ad9-4dfa-8558-af43d4ccbe69",
   "metadata": {
    "vscode": {
     "languageId": "python"
    }
   },
   "outputs": [],
   "source": [
    "def comb(theta, beta, d):\n",
    "    return  RotAngleTor(beta)@RotAngleLig(theta)@Translacao(d)"
   ]
  },
  {
   "cell_type": "code",
   "execution_count": 24,
   "id": "c60c5fea-9843-4e14-8f8d-91ee1b6e32ee",
   "metadata": {
    "panel-layout": {
     "height": 0,
     "visible": true,
     "width": 100
    },
    "vscode": {
     "languageId": "python"
    }
   },
   "outputs": [
    {
     "name": "stdout",
     "output_type": "stream",
     "text": [
      "[[ 1.00000000e+00 -1.22464680e-16  0.00000000e+00  2.00000000e-01]\n",
      " [ 7.49879891e-33  6.12323400e-17 -1.00000000e+00  1.49975978e-33]\n",
      " [ 1.22464680e-16  1.00000000e+00  6.12323400e-17  2.44929360e-17]\n",
      " [ 0.00000000e+00  0.00000000e+00  0.00000000e+00  1.00000000e+00]]\n"
     ]
    }
   ],
   "source": [
    "print(comb(mt.pi, mt.pi/2, 0.2))"
   ]
  },
  {
   "cell_type": "code",
   "execution_count": 25,
   "id": "c1c19238-6e2e-47b3-9e4a-93f89f42adae",
   "metadata": {
    "vscode": {
     "languageId": "python"
    }
   },
   "outputs": [],
   "source": [
    "def Positions(theta, beta, d):\n",
    "    n = len(d)\n",
    "   \n",
    "    e4 = np.array([0, 0, 0, 1])\n",
    "    \n",
    "    positions = []\n",
    "\n",
    "    Id = np.eye(4)\n",
    "    \n",
    "    for i in range(n):\n",
    "        Bi = comb(theta[i], beta[i], d[i])\n",
    "        Id = Id @ Bi\n",
    "        xi = Id @ e4\n",
    "        positions.append(xi[:3])  \n",
    "    return np.array(positions)"
   ]
  },
  {
   "cell_type": "code",
   "execution_count": 26,
   "id": "e8acc3d4-94b2-4727-8edc-b2733b13bc90",
   "metadata": {
    "vscode": {
     "languageId": "python"
    }
   },
   "outputs": [],
   "source": [
    "def Distances(positions):\n",
    "    n = len(positions)\n",
    "\n",
    "\n",
    "    distance = {}\n",
    "\n",
    "    for i, j in combinations(range(n), 2):\n",
    "        rij = np.linalg.norm(positions[j] - positions[i])\n",
    "        distance[(i+1, j+1)] = rij\n",
    "    return distance"
   ]
  },
  {
   "cell_type": "code",
   "execution_count": 27,
   "id": "a1ed2826-2d9e-4092-993a-7a27c0d8d5d9",
   "metadata": {
    "vscode": {
     "languageId": "python"
    }
   },
   "outputs": [],
   "source": [
    "d = [0, 1.0, 1.0, 1.0]                # distâncias\n",
    "theta = [np.pi, np.pi, np.pi/3, np.pi/4]  # ângulos de ligação\n",
    "omega = [0, 0, 0, np.pi/6]            # ângulos de torção"
   ]
  },
  {
   "cell_type": "code",
   "execution_count": 58,
   "id": "fdce26a7-1245-4c7f-bda6-b3279f902925",
   "metadata": {},
   "outputs": [],
   "source": [
    "e0 = np.array([[0],[0],[0],[1],[0]])\n",
    "e_inf = np.array([[0],[0],[0],[0],[1]])\n"
   ]
  },
  {
   "cell_type": "code",
   "execution_count": 70,
   "id": "c4918a60",
   "metadata": {
    "vscode": {
     "languageId": "python"
    }
   },
   "outputs": [],
   "source": [
    "def C_matrix(theta, omega, d):\n",
    "    \"\"\"Matriz conforme 5x5 que combina rotação e translação.\"\"\"\n",
    "    A = np.array([\n",
    "        [np.cos(theta), -np.sin(theta), 0],\n",
    "        [ np.sin(theta)*np.cos(omega), -np.cos(theta)*np.cos(omega), -np.sin(omega)],\n",
    "        [ np.sin(theta)*np.sin(omega), -np.cos(theta)*np.sin(omega),  np.cos(omega)]\n",
    "    ])\n",
    "    \n",
    "    b = np.array([[-d*np.cos(theta)],\n",
    "                  [ d*np.sin(theta)*np.cos(omega)],\n",
    "                  [ d*np.sin(theta)*np.sin(omega)]])\n",
    "   \n",
    "    normb2 = float(np.sum(b**2))\n",
    "    \n",
    "   \n",
    "    U = np.block([\n",
    "        [A, b, np.zeros((3,1))],\n",
    "        [np.zeros((1,3)), np.array([[1,0]])],\n",
    "        [b.T, np.array([[normb2/2, 1]])]\n",
    "    ])\n",
    "    return U\n"
   ]
  },
  {
   "cell_type": "code",
   "execution_count": 82,
   "id": "d9a0d9ca",
   "metadata": {
    "vscode": {
     "languageId": "python"
    }
   },
   "outputs": [],
   "source": [
    "def ConformalDistances(i, j):\n",
    "    Bprod = np.eye(5)\n",
    "    for k in range(i+1, j):\n",
    "        Bprod = Bprod @ B[k]\n",
    "    val = 2 * (e_inf.T @ Bprod @ e0)\n",
    "    return val.item()\n",
    "\n",
    "\n"
   ]
  },
  {
   "cell_type": "code",
   "execution_count": 73,
   "id": "13bf1384-ce0d-49e9-bb20-59b0457a0f79",
   "metadata": {},
   "outputs": [],
   "source": [
    "#coluna 3: d\n",
    "#coluna 5: theta\n",
    "#coluna 7: omega "
   ]
  },
  {
   "cell_type": "code",
   "execution_count": 85,
   "id": "a7c87449-a4b6-412c-8b69-0f7b96b6cf55",
   "metadata": {},
   "outputs": [
    {
     "data": {
      "text/plain": [
       "({(1, 2): np.float64(0.0),\n",
       "  (1, 3): np.float64(1.0),\n",
       "  (1, 4): np.float64(1.0),\n",
       "  (2, 3): np.float64(0.0),\n",
       "  (2, 4): np.float64(1.0),\n",
       "  (3, 4): np.float64(0.0)},\n",
       " {(1, 2): np.float64(0.0),\n",
       "  (1, 3): np.float64(1.0),\n",
       "  (1, 4): np.float64(0.9999999999999999),\n",
       "  (2, 3): np.float64(1.0),\n",
       "  (2, 4): np.float64(0.9999999999999999),\n",
       "  (3, 4): np.float64(1.0)})"
      ]
     },
     "execution_count": 85,
     "metadata": {},
     "output_type": "execute_result"
    }
   ],
   "source": [
    "dist_conformal = {}\n",
    "dist_euclidean = {}\n",
    "\n",
    "for i, j in combinations(range(4), 2):\n",
    "    rij2_conf = ConformalDistances(i, j)\n",
    "    rij_conf = np.sqrt(rij2_conf)\n",
    "    rij_euc = np.linalg.norm(x[j] - x[i])\n",
    "    dist_conformal[(i+1, j+1)] = rij_conf\n",
    "    dist_euclidean[(i+1, j+1)] = rij_euc\n",
    "\n",
    "dist_conformal, dist_euclidean"
   ]
  },
  {
   "cell_type": "code",
   "execution_count": 74,
   "id": "a2438d34-0396-4aec-ba90-f6c25ef0b300",
   "metadata": {
    "scrolled": true
   },
   "outputs": [],
   "source": [
    "#Vamos ler o arquivo para podermos aplicar o metodo\n",
    "\n",
    "def LerMat(arquivo):\n",
    "    atoms = []\n",
    "    variables = {}\n",
    "\n",
    "    with open(arquivo, 'r') as f:\n",
    "        lines = [l.strip() for l in f.readlines() if l.strip()]\n",
    "\n",
    "    split_index = None\n",
    "    for i, l in enumerate(lines):\n",
    "        if any(char.isdigit() for char in l.split()[0]):\n",
    "            split_index = i\n",
    "            break\n",
    "\n",
    "    if split_index is None:\n",
    "        split_index = len(lines)\n",
    "\n",
    "    for line in lines[:split_index]:\n",
    "        parts = line.split()\n",
    "        n = len(parts)\n",
    "        if n in [1, 3, 5, 7]:\n",
    "            atoms.append(parts)\n",
    "        else:\n",
    "            print(\"Aviso: linha malformada:\", parts)\n",
    "\n",
    "    for line in lines[split_index:]:\n",
    "        parts = line.split()\n",
    "        if len(parts) == 2:\n",
    "            name, value = parts\n",
    "            try:\n",
    "                variables[name] = float(value)\n",
    "            except ValueError:\n",
    "                pass\n",
    "\n",
    "    return atoms, variables\n",
    "\n",
    "# Uso\n",
    "atoms = LerMat('/home/rnatieli/Downloads/we02.zmat')[0]\n",
    "values = LerMat('/home/rnatieli/Downloads/we02.zmat')[1]\n"
   ]
  },
  {
   "cell_type": "code",
   "execution_count": 88,
   "id": "bdbb10e5-8af1-44cd-b9ac-c762ceb38d8a",
   "metadata": {},
   "outputs": [
    {
     "data": {
      "text/plain": [
       "([['C'],\n",
       "  ['H', '0', 'dist01'],\n",
       "  ['H', '0', 'dist02', '1', 'ang01'],\n",
       "  ['O', '1', 'dist03', '2', 'ang02', '0', 'ang03']],\n",
       " {'dist01': 1.09,\n",
       "  'dist02': 1.09,\n",
       "  'dist03': 1.43,\n",
       "  'ang01': 109.5,\n",
       "  'ang02': 104.5,\n",
       "  'ang03': 120.0})"
      ]
     },
     "execution_count": 88,
     "metadata": {},
     "output_type": "execute_result"
    }
   ],
   "source": [
    "atoms, values"
   ]
  }
 ],
 "metadata": {
  "kernelspec": {
   "display_name": "Python 3 (ipykernel)",
   "language": "python",
   "name": "python3"
  },
  "language_info": {
   "codemirror_mode": {
    "name": "ipython",
    "version": 3
   },
   "file_extension": ".py",
   "mimetype": "text/x-python",
   "name": "python",
   "nbconvert_exporter": "python",
   "pygments_lexer": "ipython3",
   "version": "3.13.5"
  },
  "panel-cell-order": [
   "c60c5fea-9843-4e14-8f8d-91ee1b6e32ee"
  ]
 },
 "nbformat": 4,
 "nbformat_minor": 5
}
