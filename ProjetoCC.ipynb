{
 "cells": [
  {
   "cell_type": "code",
   "execution_count": 1,
   "id": "49fddafd-746e-4142-80ef-872a732de6c3",
   "metadata": {
    "vscode": {
     "languageId": "python"
    }
   },
   "outputs": [],
   "source": [
    "import numpy as np\n",
    "import math as mt\n",
    "from itertools import combinations"
   ]
  },
  {
   "cell_type": "code",
   "execution_count": 2,
   "id": "2640efa7-45a9-4df2-9da5-60c0bb00327d",
   "metadata": {
    "vscode": {
     "languageId": "python"
    }
   },
   "outputs": [],
   "source": [
    "def RotAngleLig(theta):\n",
    "    matrix = np.array(\n",
    "    [[-np.cos(theta), -np.sin(theta), 0, 0],\n",
    "    [  np.sin(theta), -np.cos(theta), 0, 0],\n",
    "    [0, 0, 1, 0],\n",
    "    [0, 0, 0, 1]\n",
    "    ])\n",
    "    return matrix"
   ]
  },
  {
   "cell_type": "code",
   "execution_count": 3,
   "id": "71eec9a3-2379-48d0-b7a6-d5460feae63c",
   "metadata": {
    "vscode": {
     "languageId": "python"
    }
   },
   "outputs": [],
   "source": [
    "def RotAngleTor(beta):\n",
    "    matrix = np.array(\n",
    "    [[1, 0, 0, 0],\n",
    "    [ 0, np.cos(beta), -np.sin(beta),  0],\n",
    "    [ 0, np.sin(beta),  np.cos(beta), 0],\n",
    "    [0, 0, 0, 1]\n",
    "    ])\n",
    "    return matrix"
   ]
  },
  {
   "cell_type": "code",
   "execution_count": 4,
   "id": "52427e89-f9d2-4e6a-99d4-e62a6ce697ae",
   "metadata": {
    "vscode": {
     "languageId": "python"
    }
   },
   "outputs": [],
   "source": [
    "def Translacao(d):\n",
    "    matrix = np.array([\n",
    "    [1, 0, 0, d],\n",
    "    [0, 1, 0, 0],\n",
    "    [0, 0, 1, 0],\n",
    "    [0, 0, 0, 1]\n",
    "    ])\n",
    "    return matrix"
   ]
  },
  {
   "cell_type": "code",
   "execution_count": 5,
   "id": "b6fa91a6-7ad9-4dfa-8558-af43d4ccbe69",
   "metadata": {
    "vscode": {
     "languageId": "python"
    }
   },
   "outputs": [],
   "source": [
    "def comb(theta, beta, d):\n",
    "    return  RotAngleTor(beta)@RotAngleLig(theta)@Translacao(d)"
   ]
  },
  {
   "cell_type": "code",
   "execution_count": 6,
   "id": "c60c5fea-9843-4e14-8f8d-91ee1b6e32ee",
   "metadata": {
    "panel-layout": {
     "height": 0,
     "visible": true,
     "width": 100
    },
    "vscode": {
     "languageId": "python"
    }
   },
   "outputs": [
    {
     "name": "stdout",
     "output_type": "stream",
     "text": [
      "[[ 1.00000000e+00 -1.22464680e-16  0.00000000e+00  2.00000000e-01]\n",
      " [ 7.49879891e-33  6.12323400e-17 -1.00000000e+00  1.49975978e-33]\n",
      " [ 1.22464680e-16  1.00000000e+00  6.12323400e-17  2.44929360e-17]\n",
      " [ 0.00000000e+00  0.00000000e+00  0.00000000e+00  1.00000000e+00]]\n"
     ]
    }
   ],
   "source": [
    "print(comb(mt.pi, mt.pi/2, 0.2))"
   ]
  },
  {
   "cell_type": "code",
   "execution_count": 71,
   "id": "c1c19238-6e2e-47b3-9e4a-93f89f42adae",
   "metadata": {
    "vscode": {
     "languageId": "python"
    }
   },
   "outputs": [],
   "source": [
    "def Positions(theta, beta, d):\n",
    "    n = len(d)\n",
    "   \n",
    "    e4 = np.array([0, 0, 0, 1])\n",
    "    \n",
    "    positions = [np.zeros(3)]\n",
    "\n",
    "    Id = np.eye(4)\n",
    "    \n",
    "    for i in range(n):\n",
    "        Bi = comb(theta[i], beta[i], d[i])\n",
    "        Id = Id @ Bi\n",
    "        xi = Id @ e4\n",
    "        positions.append(xi[:3])  \n",
    "    return np.array(positions)"
   ]
  },
  {
   "cell_type": "code",
   "execution_count": 72,
   "id": "e8acc3d4-94b2-4727-8edc-b2733b13bc90",
   "metadata": {
    "vscode": {
     "languageId": "python"
    }
   },
   "outputs": [],
   "source": [
    "def Distances(positions):\n",
    "    n = len(positions)\n",
    "\n",
    "\n",
    "    distance = {}\n",
    "\n",
    "    for i, j in combinations(range(n), 2):\n",
    "        rij = np.linalg.norm(positions[j] - positions[i])\n",
    "        distance[(i+1, j+1)] = rij\n",
    "    return distance"
   ]
  },
  {
   "cell_type": "code",
   "execution_count": 73,
   "id": "c4918a60",
   "metadata": {
    "vscode": {
     "languageId": "python"
    }
   },
   "outputs": [],
   "source": [
    "def C_matrix(theta, omega, d):\n",
    "    A = np.array([\n",
    "        [-np.cos(theta), -np.sin(theta), 0],\n",
    "        [ np.sin(theta)*np.cos(omega), -np.cos(theta)*np.cos(omega), -np.sin(omega)],\n",
    "        [ np.sin(theta)*np.sin(omega), -np.cos(theta)*np.sin(omega),  np.cos(omega)]\n",
    "    ])\n",
    "    \n",
    "    b = np.array([[-d*np.cos(theta)],\n",
    "                  [ d*np.sin(theta)*np.cos(omega)],\n",
    "                  [ d*np.sin(theta)*np.sin(omega)]])\n",
    "   \n",
    "    normb2 = float(np.sum(b**2))\n",
    "    \n",
    "   \n",
    "    U = np.block([\n",
    "        [A, b, np.zeros((3,1))],\n",
    "        [np.zeros((1,3)), np.array([[1,0]])],\n",
    "        [b.T @ A, np.array([[normb2/2, 1]])]\n",
    "    ])\n",
    "    return U\n"
   ]
  },
  {
   "cell_type": "code",
   "execution_count": 126,
   "id": "df55c3ce-1ac6-4a8e-b376-2009541a8b3c",
   "metadata": {},
   "outputs": [],
   "source": [
    "def conformalPositions(theta, omega, d):\n",
    "    e0 = np.array([[0],[0],[0],[1],[0]])\n",
    "    e_inf = np.array([[0],[0],[0],[0],[1]])\n",
    "\n",
    "    \n",
    "    B = [C_matrix(theta[i], omega[i], d[i]) for i in range(len(d))]\n",
    "\n",
    "   \n",
    "    Bcum = [np.eye(5)]\n",
    "    for i in range(len(d)):\n",
    "        Bi = C_matrix(theta[i], omega[i], d[i])\n",
    "        Bcum.append(Bcum[-1] @ Bi)\n",
    "        B.append(Bi)\n",
    "\n",
    "    x_hat = [Bcum[i] @ e0 for i in range(len(d)+1)]\n",
    "\n",
    "    \n",
    "    x = [xh[:3].flatten() for xh in x_hat]\n",
    "\n",
    "    \n",
    "    x1 = Positions(theta, omega, d)\n",
    "    distance_eucli = Distances(x1)\n",
    "    \n",
    "\n",
    "\n",
    "\n",
    "    return B, x_hat, x\n"
   ]
  },
  {
   "cell_type": "code",
   "execution_count": 141,
   "id": "d9a0d9ca",
   "metadata": {
    "vscode": {
     "languageId": "python"
    }
   },
   "outputs": [],
   "source": [
    "def ConformalDistances(i, j, B):\n",
    "    e0 = np.array([[0],[0],[0],[1],[0]])\n",
    "    e_inf = np.array([[0],[0],[0],[0],[1]])\n",
    "\n",
    "    if i >= len(B):\n",
    "        return 0\n",
    "\n",
    "    Bcum = [np.eye(5)]\n",
    "    for Bi in B:\n",
    "        Bcum.append(Bcum[-1] @ Bi)\n",
    "\n",
    "    if j >= len(Bcum):\n",
    "        j = len(Bcum) - 1\n",
    "\n",
    "    # transformação entre os pontos i e j\n",
    "    Bij = np.linalg.inv(Bcum[i]) @ Bcum[j]\n",
    "    val = 2 * (e_inf.T @ Bij @ e0)\n",
    "    return float(val)\n"
   ]
  },
  {
   "cell_type": "code",
   "execution_count": 142,
   "id": "13bf1384-ce0d-49e9-bb20-59b0457a0f79",
   "metadata": {},
   "outputs": [],
   "source": [
    "#coluna 3: d\n",
    "#coluna 5: theta\n",
    "#coluna 7: omega "
   ]
  },
  {
   "cell_type": "code",
   "execution_count": 143,
   "id": "a2438d34-0396-4aec-ba90-f6c25ef0b300",
   "metadata": {
    "scrolled": true
   },
   "outputs": [],
   "source": [
    "#Vamos ler o arquivo para podermos aplicar o metodo\n",
    "\n",
    "def LerMat(arquivo):\n",
    "    atoms = []\n",
    "    variables = {}\n",
    "\n",
    "    with open(arquivo, 'r') as f:\n",
    "        lines = [l.strip() for l in f.readlines() if l.strip()]\n",
    "\n",
    "    split_index = None\n",
    "    for i, l in enumerate(lines):\n",
    "        if any(char.isdigit() for char in l.split()[0]):\n",
    "            split_index = i\n",
    "            break\n",
    "\n",
    "    if split_index is None:\n",
    "        split_index = len(lines)\n",
    "\n",
    "    for line in lines[:split_index]:\n",
    "        parts = line.split()\n",
    "        n = len(parts)\n",
    "        if n in [1, 3, 5, 7]:\n",
    "            atoms.append(parts)\n",
    "        else:\n",
    "            print(\"Aviso: linha malformada:\", parts)\n",
    "\n",
    "    for line in lines[split_index:]:\n",
    "        parts = line.split()\n",
    "        if len(parts) == 2:\n",
    "            name, value = parts\n",
    "            try:\n",
    "                variables[name] = float(value)\n",
    "            except ValueError:\n",
    "                pass\n",
    "\n",
    "    return atoms, variables\n",
    "\n",
    "# Uso\n",
    "atoms = LerMat('/home/rnatieli/Downloads/we02.zmat')[0]\n",
    "values = LerMat('/home/rnatieli/Downloads/we02.zmat')[1]\n"
   ]
  },
  {
   "cell_type": "code",
   "execution_count": 144,
   "id": "46f5712d-4318-4635-ac28-700c77a35f95",
   "metadata": {},
   "outputs": [
    {
     "data": {
      "text/plain": [
       "([['O'],\n",
       "  ['C', '1', 'dist02'],\n",
       "  ['C', '2', 'dist03', '1', 'angl03'],\n",
       "  ['C', '3', 'dist04', '2', 'angl04', '1', 'ptor04'],\n",
       "  ['O', '2', 'dist05', '1', 'angl05', '3', 'itor05'],\n",
       "  ['N', '3', 'dist06', '2', 'angl06', '4', 'itor06'],\n",
       "  ['H', '4', 'dist07', '3', 'angl07', '2', 'ptor07'],\n",
       "  ['H', '5', 'dist08', '2', 'angl08', '1', 'ptor08'],\n",
       "  ['H', '6', 'dist09', '3', 'angl09', '2', 'ptor09'],\n",
       "  ['H', '4', 'dist10', '3', 'angl10', '7', 'itor10'],\n",
       "  ['H', '4', 'dist11', '3', 'angl11', '7', 'itor11'],\n",
       "  ['H', '3', 'dist12', '2', 'angl12', '4', 'itor12'],\n",
       "  ['H', '6', 'dist13', '3', 'angl13', '9', 'itor13']],\n",
       " {'dist02': 1.25669,\n",
       "  'dist03': 1.46513,\n",
       "  'angl03': 119.17335,\n",
       "  'dist04': 1.5089,\n",
       "  'angl04': 113.1617,\n",
       "  'ptor04': 125.6476,\n",
       "  'dist05': 1.38725,\n",
       "  'angl05': 116.91927,\n",
       "  'itor05': 179.99916,\n",
       "  'dist06': 1.43372,\n",
       "  'angl06': 110.90762,\n",
       "  'itor06': -125.65195,\n",
       "  'dist07': 1.11313,\n",
       "  'angl07': 111.66282,\n",
       "  'ptor07': 13.15326,\n",
       "  'dist08': 1.01115,\n",
       "  'angl08': 117.10283,\n",
       "  'ptor08': -45.7943,\n",
       "  'dist09': 1.05936,\n",
       "  'angl09': 107.84616,\n",
       "  'ptor09': -64.43562,\n",
       "  'dist10': 1.11175,\n",
       "  'angl10': 107.03225,\n",
       "  'itor10': -115.25979,\n",
       "  'dist11': 1.11505,\n",
       "  'angl11': 110.52,\n",
       "  'itor11': 124.14704,\n",
       "  'dist12': 1.11771,\n",
       "  'angl12': 107.28476,\n",
       "  'itor12': 117.76441,\n",
       "  'dist13': 1.03906,\n",
       "  'angl13': 108.66622,\n",
       "  'itor13': 122.22573})"
      ]
     },
     "execution_count": 144,
     "metadata": {},
     "output_type": "execute_result"
    }
   ],
   "source": [
    "atoms, values"
   ]
  },
  {
   "cell_type": "code",
   "execution_count": 145,
   "id": "4b71e277-22fb-4a4e-8c21-95bf36632a30",
   "metadata": {},
   "outputs": [],
   "source": [
    "def conversao(atoms, values):\n",
    "   \n",
    "    d, theta, omega = [], [], []\n",
    "\n",
    "    #Converter os angulos para rad\n",
    "    for entry in atoms[1:]:  \n",
    "        # distancia\n",
    "        if len(entry) >= 3:\n",
    "            d.append(values.get(entry[2], 1.0))\n",
    "        else:\n",
    "            d.append(0.0)\n",
    "\n",
    "        # ligacao\n",
    "        if len(entry) >= 5:\n",
    "            theta.append(np.deg2rad(values.get(entry[4], 90.0)))  \n",
    "        else:\n",
    "            theta.append(np.deg2rad(90.0))\n",
    "\n",
    "        # torcao\n",
    "        if len(entry) >= 7:\n",
    "            omega.append(np.deg2rad(values.get(entry[6], 0.0)))  \n",
    "        else:\n",
    "            omega.append(0.0)\n",
    "    return np.array(theta), np.array(omega), np.array(d)\n"
   ]
  },
  {
   "cell_type": "code",
   "execution_count": 150,
   "id": "7c0af9aa-9e59-40b0-8075-112a950682e8",
   "metadata": {},
   "outputs": [],
   "source": [
    "def teste(theta, beta, d):\n",
    "    e0 = np.array([[0],[0],[0],[1],[0]])\n",
    "    e_inf = np.array([[0],[0],[0],[0],[1]])\n",
    "    pos_h = Positions(theta, beta, d)\n",
    "\n",
    "    \n",
    "    B, c, xhat = conformalPositions(theta, beta, d)\n",
    "\n",
    "    #Tem que normalizar por isso o loop\n",
    "    c_cart = []\n",
    "    for p in c:\n",
    "        p = np.array(p).flatten()        \n",
    "        denom = p[3]                     \n",
    "        c_cart.append(p[:3] / denom) \n",
    "    c_cart = np.array(c_cart)    \n",
    "    print(\"Par      Hom        Conf(cart)   Conf(teórica)\")\n",
    "    for i, j in combinations(range(len(c_cart)), 2):\n",
    "        hom  = np.linalg.norm(pos_h[j] - pos_h[i])\n",
    "        cart = np.linalg.norm(c_cart[j] - c_cart[i])\n",
    "        conf = np.sqrt(abs(ConformalDistances(i, j, B)))\n",
    "        print(f\"({i+1},{j+1})  {hom:}   {cart:}   {conf:}\")\n"
   ]
  },
  {
   "cell_type": "code",
   "execution_count": 151,
   "id": "0801203c-4f3f-48c2-b507-12ec154f934f",
   "metadata": {},
   "outputs": [
    {
     "name": "stdout",
     "output_type": "stream",
     "text": [
      "Par      Hom        Conf(cart)   Conf(teórica)\n",
      "(1,2)  1.25669   1.25669   1.25669\n",
      "(1,3)  2.349657126755717   2.349657126755717   2.349657126755717\n",
      "(1,4)  3.4696081511972845   3.4696081511972845   3.469608151197285\n",
      "(1,5)  4.661170306814135   4.661170306814135   4.661170306814135\n",
      "(1,6)  5.734980802287568   5.734980802287568   5.734980802287568\n",
      "(1,7)  5.556358369044915   5.556358369044915   5.556358369044915\n",
      "(1,8)  4.989198707182842   4.989198707182842   4.989198707182843\n",
      "(1,9)  5.542324349534713   5.542324349534713   5.542324349534714\n",
      "(1,10)  6.075823182698313   6.075823182698314   6.075823182698314\n",
      "(1,11)  7.166961818701707   7.166961818701707   7.166961818701708\n",
      "(1,12)  7.642242175820707   7.642242175820707   7.642242175820709\n",
      "(1,13)  8.422006141949879   8.422006141949879   8.422006141949883\n",
      "(2,3)  1.46513   1.46513   1.4651300000000003\n",
      "(2,4)  2.482432320213711   2.482432320213711   2.4824323202137113\n",
      "(2,5)  3.746804641134222   3.746804641134222   3.746804641134222\n",
      "(2,6)  4.65395372180092   4.65395372180092   4.65395372180092\n",
      "(2,7)  4.366799839973374   4.366799839973374   4.366799839973374\n",
      "(2,8)  3.807894856792222   3.8078948567922217   3.807894856792222\n",
      "(2,9)  4.455176636014903   4.455176636014903   4.455176636014904\n",
      "(2,10)  4.982866168123819   4.982866168123819   4.98286616812382\n",
      "(2,11)  6.067930420618559   6.067930420618559   6.067930420618559\n",
      "(2,12)  6.636730417920388   6.636730417920388   6.63673041792039\n",
      "(2,13)  7.395034687028433   7.395034687028433   7.395034687028436\n",
      "(3,4)  1.5089000000000004   1.5089   1.5089000000000004\n",
      "(3,5)  2.469127267947163   2.469127267947163   2.469127267947162\n",
      "(3,6)  3.5172808883116327   3.5172808883116327   3.5172808883116327\n",
      "(3,7)  3.4857182829057765   3.4857182829057765   3.4857182829057765\n",
      "(3,8)  3.198661547340663   3.198661547340663   3.198661547340663\n",
      "(3,9)  3.906450610034029   3.906450610034029   3.9064506100340304\n",
      "(3,10)  4.692584789847172   4.692584789847172   4.692584789847173\n",
      "(3,11)  5.671050567019279   5.671050567019279   5.671050567019279\n",
      "(3,12)  6.371317208440031   6.371317208440031   6.371317208440033\n",
      "(3,13)  7.209401114038182   7.209401114038182   7.209401114038185\n",
      "(4,5)  1.38725   1.38725   1.38725\n",
      "(4,6)  2.3236958176085034   2.3236958176085034   2.323695817608504\n",
      "(4,7)  2.369131562577305   2.369131562577305   2.369131562577307\n",
      "(4,8)  2.005241519211954   2.005241519211954   2.0052415192119546\n",
      "(4,9)  2.5135921472863076   2.5135921472863076   2.5135921472863085\n",
      "(4,10)  3.4301706191796413   3.4301706191796413   3.4301706191796426\n",
      "(4,11)  4.333240359251945   4.333240359251945   4.3332403592519455\n",
      "(4,12)  5.014494090289628   5.014494090289628   5.01449409028963\n",
      "(4,13)  5.910947754989344   5.910947754989344   5.910947754989347\n",
      "(5,6)  1.4337199999999999   1.4337199999999999   1.4337199999999999\n",
      "(5,7)  2.1149129597513747   2.1149129597513747   2.114912959751375\n",
      "(5,8)  2.309973980137765   2.309973980137765   2.3099739801377637\n",
      "(5,9)  2.6759365111351716   2.675936511135172   2.675936511135172\n",
      "(5,10)  3.7625432914385   3.7625432914385004   3.762543291438501\n",
      "(5,11)  4.389010392691656   4.389010392691656   4.389010392691656\n",
      "(5,12)  5.157920809642383   5.157920809642383   5.157920809642384\n",
      "(5,13)  6.080712193616653   6.080712193616653   6.080712193616655\n",
      "(6,7)  1.11313   1.11313   1.1131299999999995\n",
      "(6,8)  1.8130226152403024   1.8130226152403024   1.8130226152403042\n",
      "(6,9)  2.1290277378891345   2.129027737889135   2.129027737889135\n",
      "(6,10)  3.105691354331809   3.105691354331809   3.1056913543318094\n",
      "(6,11)  3.472766303497127   3.472766303497127   3.4727663034971274\n",
      "(6,12)  4.397032807226315   4.397032807226316   4.397032807226316\n",
      "(6,13)  5.216658290545522   5.216658290545522   5.216658290545524\n",
      "(7,8)  1.01115   1.01115   1.0111500000000022\n",
      "(7,9)  1.6736832083548643   1.6736832083548643   1.6736832083548692\n",
      "(7,10)  2.408765124500597   2.4087651245005977   2.4087651245006\n",
      "(7,11)  2.9024592247281897   2.9024592247281897   2.902459224728193\n",
      "(7,12)  3.9241498421744527   3.9241498421744527   3.9241498421744563\n",
      "(7,13)  4.637848698100614   4.637848698100614   4.63784869810062\n",
      "(8,9)  1.0593599999999996   1.0593599999999999   1.059360000000004\n",
      "(8,10)  1.7459029750455146   1.745902975045515   1.7459029750455155\n",
      "(8,11)  2.5672271523148527   2.5672271523148527   2.5672271523148535\n",
      "(8,12)  3.4604389974939336   3.460438997493934   3.460438997493935\n",
      "(8,13)  4.2192338194746775   4.219233819474678   4.219233819474682\n",
      "(9,10)  1.11175   1.11175   1.1117499999999996\n",
      "(9,11)  1.829865869020737   1.829865869020737   1.8298658690207381\n",
      "(9,12)  2.5753482202632894   2.5753482202632894   2.575348220263292\n",
      "(9,13)  3.4572442083751085   3.4572442083751085   3.457244208375112\n",
      "(10,11)  1.1150500000000003   1.11505   1.1150500000000032\n",
      "(10,12)  1.7981149100562652   1.798114910056265   1.7981149100562674\n",
      "(10,13)  2.5287190914201085   2.528719091420108   2.528719091420114\n",
      "(11,12)  1.1177099999999993   1.1177099999999993   1.1177100000000075\n",
      "(11,13)  1.7528043946765532   1.7528043946765532   1.7528043946765615\n",
      "(12,13)  1.0390599999999997   1.0390599999999997   1.039060000000003\n"
     ]
    },
    {
     "name": "stderr",
     "output_type": "stream",
     "text": [
      "/tmp/ipykernel_22787/1058074376.py:19: DeprecationWarning: Conversion of an array with ndim > 0 to a scalar is deprecated, and will error in future. Ensure you extract a single element from your array before performing this operation. (Deprecated NumPy 1.25.)\n",
      "  return float(val)\n"
     ]
    }
   ],
   "source": [
    "theta, omega, d = conversao(atoms, values)\n",
    "\n",
    "teste(theta, omega, d)"
   ]
  },
  {
   "cell_type": "code",
   "execution_count": null,
   "id": "49b097c7-86ec-4733-9b0f-6ac575b1d9e0",
   "metadata": {},
   "outputs": [],
   "source": []
  },
  {
   "cell_type": "code",
   "execution_count": null,
   "id": "e7783e73-c8e0-4dd8-bc9d-ccb1f4bd9172",
   "metadata": {},
   "outputs": [],
   "source": []
  },
  {
   "cell_type": "code",
   "execution_count": null,
   "id": "a17ac128-a46a-428f-a856-c71d9b595a93",
   "metadata": {},
   "outputs": [],
   "source": []
  }
 ],
 "metadata": {
  "kernelspec": {
   "display_name": "Python 3 (ipykernel)",
   "language": "python",
   "name": "python3"
  },
  "language_info": {
   "codemirror_mode": {
    "name": "ipython",
    "version": 3
   },
   "file_extension": ".py",
   "mimetype": "text/x-python",
   "name": "python",
   "nbconvert_exporter": "python",
   "pygments_lexer": "ipython3",
   "version": "3.13.5"
  },
  "panel-cell-order": [
   "c60c5fea-9843-4e14-8f8d-91ee1b6e32ee"
  ]
 },
 "nbformat": 4,
 "nbformat_minor": 5
}
